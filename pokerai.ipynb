{
 "cells": [
  {
   "cell_type": "code",
   "execution_count": 8,
   "id": "af20e8c4",
   "metadata": {},
   "outputs": [],
   "source": [
    "import torch\n",
    "import torch.nn as nn\n",
    "import random"
   ]
  },
  {
   "cell_type": "code",
   "execution_count": 138,
   "id": "e5a47914",
   "metadata": {},
   "outputs": [
    {
     "name": "stdout",
     "output_type": "stream",
     "text": [
      "{1: ['9 of Clubs', '4 of Clubs'], 2: ['3 of Spades', '8 of Hearts'], 3: ['4 of Diamonds', '7 of Diamonds'], 4: ['Jack of Diamonds', '6 of Hearts'], 5: ['Ace of Spades', '3 of Clubs'], 6: ['3 of Hearts', 'Queen of Hearts']}\n"
     ]
    }
   ],
   "source": [
    "# change the list to a dictionary so that we can use integeres to represent the cards \n",
    "deck = [\n",
    "    'Ace of Spades', '2 of Spades', '3 of Spades',\n",
    "    '4 of Spades', '5 of Spades', '6 of Spades',\n",
    "    '7 of Spades', '8 of Spades', '9 of Spades',\n",
    "    '10 of Spades', 'Jack of Spades', 'Queen of Spades',\n",
    "    'King of Spades',\n",
    "    'Ace of Hearts', '2 of Hearts', '3 of Hearts',\n",
    "    '4 of Hearts', '5 of Hearts', '6 of Hearts',\n",
    "    '7 of Hearts', '8 of Hearts', '9 of Hearts',\n",
    "    '10 of Hearts', 'Jack of Hearts', 'Queen of Hearts',\n",
    "    'King of Hearts',\n",
    "    'Ace of Diamonds', '2 of Diamonds', '3 of Diamonds',\n",
    "    '4 of Diamonds', '5 of Diamonds', '6 of Diamonds',\n",
    "    '7 of Diamonds', '8 of Diamonds', '9 of Diamonds',\n",
    "    '10 of Diamonds', 'Jack of Diamonds', 'Queen of Diamonds',\n",
    "    'King of Diamonds',\n",
    "    'Ace of Clubs', '2 of Clubs', '3 of Clubs',\n",
    "    '4 of Clubs', '5 of Clubs', '6 of Clubs',\n",
    "    '7 of Clubs', '8 of Clubs', '9 of Clubs',\n",
    "    '10 of Clubs', 'Jack of Clubs', 'Queen of Clubs',\n",
    "    'King of Clubs'\n",
    "  ]\n",
    "\n",
    "card_dict = {}\n",
    "for i, card in enumerate(deck): \n",
    "    card_dict[i+1] = card \n",
    "    \n",
    "# randomly assign hands to each of the players in a n size game (max 9, min 4 players)\n",
    "\n",
    "players = {}\n",
    "used_keys = [] # avoids dealing the same card twice \n",
    "\n",
    "for i in range(1, 7): \n",
    "    player_cards = []\n",
    "    for j in range(2): \n",
    "        key = random.choice(list(card_dict.keys())) # selects a random key \n",
    "        while key in used_keys: \n",
    "            key = random.choice(list(card_dict.keys())) # selects a new key if necessary\n",
    "        value = card_dict.pop(key) # remove key-value pair from the dictionary\n",
    "        used_keys.append(key) # add the key to the list of used keys \n",
    "        player_cards.append(value) \n",
    "    players[i] = player_cards \n",
    "    \n",
    "    # after we run this we have to re-initialize the deck\n",
    "    \n",
    "print(players)"
   ]
  },
  {
   "cell_type": "code",
   "execution_count": 124,
   "id": "030bac9a",
   "metadata": {},
   "outputs": [],
   "source": [
    "# now that each player can be dealt a hand, we need to set up the order of betting/blinds\n",
    "\n",
    "big_blind_index = 1 \n",
    "small_blind_index = 0\n",
    "\n",
    "num_players = len(players)\n",
    "\n",
    "def moveBlinds(): \n",
    "    for i in range(num_players): \n",
    "        print(f'Big blind is moving to: {players[big_blind_index + 1]}')\n",
    "        print(f'Small blind is moving to: {players[small_blind_index + 1]}')\n",
    "        \n",
    "        big_blind_index += 1 \n",
    "        small_blind_index += 1 \n",
    "            \n",
    "        # Reset the index if necessary\n",
    "              \n",
    "        if big_blind_index >= num_players: \n",
    "              big_blind_index = 0 \n",
    "        if small_blind_index >= num_players: \n",
    "              small_blind_index = 0  \n",
    "    "
   ]
  },
  {
   "cell_type": "code",
   "execution_count": 125,
   "id": "aee9782a",
   "metadata": {},
   "outputs": [
    {
     "name": "stdout",
     "output_type": "stream",
     "text": [
      "[20.0, 20.0, 20.0, 20.0, 20.0, 20.0]\n"
     ]
    }
   ],
   "source": [
    "# define each starting stack\n",
    "\n",
    "player_buyin = 20.00\n",
    "big_blind_cost = 0.50 \n",
    "small_blind_cost = 0.25\n",
    "\n",
    "preflop = False # Preflop is between the dealing of the cards and the initiation of a flop \n",
    "\n",
    "pot = 0 \n",
    "\n",
    "stacks = []\n",
    "\n",
    "for player in players: \n",
    "    stacks.append(player_buyin)\n",
    "\n",
    "print(stacks)\n"
   ]
  },
  {
   "cell_type": "code",
   "execution_count": 126,
   "id": "a794415e",
   "metadata": {},
   "outputs": [
    {
     "name": "stdout",
     "output_type": "stream",
     "text": [
      "11\n",
      "['5 of Clubs', '6 of Clubs']\n",
      "7\n",
      "['4 of Hearts', '3 of Diamonds']\n",
      "21\n",
      "['Jack of Diamonds', 'Ace of Clubs']\n",
      "20\n",
      "['10 of Spades', 'Queen of Clubs']\n",
      "13\n",
      "['5 of Hearts', '8 of Spades']\n",
      "17\n",
      "['7 of Clubs', 'Jack of Spades']\n"
     ]
    }
   ],
   "source": [
    "# weight the hands so that the ai can play them \n",
    "\n",
    "def weight_cards(cards): \n",
    "    # dictionary to map string representation of ecah card in numerical value \n",
    "    values = {'2': 2, '3': 3, '4': 4, '5': 5, '6': 6, '7': 7, '8': 8, '9': 9, '10': 10, 'Jack': 10, 'Queen': 10, 'King': 10, 'Ace': 11}\n",
    "    \n",
    "    # use list comprehension to iterate through the input string and sum the values of the cards \n",
    "    \n",
    "    weights = sum([values[card.strip().split(' ')[0]] for card in cards])\n",
    "    \n",
    "    # TODO: if they are the same suit, add a small multiplier\n",
    "    \n",
    "    return weights \n",
    "\n",
    "for player in players: \n",
    "    print(weight_cards(players[player]))\n",
    "    print(players[player])\n",
    "\n",
    "\n",
    "    "
   ]
  },
  {
   "cell_type": "code",
   "execution_count": 127,
   "id": "ec0133ec",
   "metadata": {},
   "outputs": [],
   "source": [
    "def decisionAction(playerIndex): \n",
    "    # standard bet preflop is 1.5x the big blind \n",
    "    if preflop == True and pot == big_blind_cost + small_blind_cost: # if no one has bet yet\n",
    "        betSize = 1.5*big_blind_cost\n",
    "        stacks[playerIndex] -= betSize\n",
    "        pot += betSize\n",
    "    if preflop == True and pot != big_blind_cost + small_blind_cost: \n",
    "        # if someone else has already bet, we need to call, fold, raise\n",
    "        if weight_cards(playerIndex) <= 15: \n",
    "            fold(playerIndex)\n",
    "        if weight_cards(playerIndex) > 15: \n",
    "            call(playerIndex)\n",
    "\n",
    "        "
   ]
  },
  {
   "cell_type": "code",
   "execution_count": 137,
   "id": "73c7a514",
   "metadata": {},
   "outputs": [
    {
     "name": "stdout",
     "output_type": "stream",
     "text": [
      "([17.5, 15.0, 19.5, 19.25, 19.25, 19.5], ['4 of Clubs', 'King of Clubs', '3 of Spades'])\n"
     ]
    }
   ],
   "source": [
    "# play a pretend hand\n",
    "\n",
    "preflop = True \n",
    "raisedPot = False \n",
    "\n",
    "def dealHand(): \n",
    "    \n",
    "    num_players = len(players) \n",
    "    \n",
    "    actionIndex = big_blind_index + 1 \n",
    "    stacks[big_blind_index] -= big_blind_cost\n",
    "    stacks[small_blind_index] -= small_blind_cost \n",
    "    pot = big_blind_cost + small_blind_cost\n",
    "    \n",
    "    while actionIndex < big_blind_index - num_players: \n",
    "        hand_weight = weight_cards(players[actionIndex])\n",
    "        if hand_weight >= 18:\n",
    "            bet_size = 1.5 * big_blind_cost\n",
    "            stacks[actionIndex] -= bet_size\n",
    "            pot += bet_size\n",
    "            raisedPot = True\n",
    "        \n",
    "        \n",
    "        else: \n",
    "            stacks[actionIndex] -= big_blind_cost\n",
    "            pot += big_blind_cost\n",
    "            \n",
    "        '''       \n",
    "        elif hand_weight > 11 and hand_weight < 18 and not raisedPot:\n",
    "            stacks[actionIndex] -= big_blind_cost\n",
    "            pot += big_blind_cost\n",
    "        '''\n",
    "  \n",
    "        actionIndex += 1\n",
    "            \n",
    "    flop = []\n",
    "    \n",
    "    for j in range(3): \n",
    "        key = random.choice(list(card_dict.keys())) # selects a random key \n",
    "        while key in used_keys: \n",
    "            key = random.choice(list(card_dict.keys())) # selects a new key if necessary\n",
    "        value = card_dict.pop(key) # remove key-value pair from the dictionary\n",
    "        used_keys.append(key) # add the key to the list of used keys \n",
    "        flop.append(value) \n",
    "    \n",
    "    return stacks, flop \n",
    "\n",
    "x = dealHand()\n",
    "print(x)"
   ]
  },
  {
   "cell_type": "code",
   "execution_count": 139,
   "id": "97c92fd5",
   "metadata": {},
   "outputs": [],
   "source": [
    "# reweight the hand after the flop comes down \n",
    "\n",
    "def reweight_hands(newCards, curCards): \n",
    "    pass\n",
    "\n",
    "\n"
   ]
  },
  {
   "cell_type": "code",
   "execution_count": null,
   "id": "c6686eef",
   "metadata": {},
   "outputs": [],
   "source": [
    "class PokerNN(nn.Module): \n",
    "    def __init__(self): \n",
    "        super().__init__()\n",
    "        self.layer1 = nn.Linear(in_features=7, out_features=64) \n",
    "        self.layer2 = nn.Linear(in_features=64, out_features=128)\n",
    "        self.layer3 = nn.Linear(in_features=128, out_features=3) \n",
    "        \n",
    "    def forward(self, x): \n",
    "        x = self.layer1(x) \n",
    "        x = torch.relu(x) \n",
    "        x = self.layer2(x) \n",
    "        x = torch.relu(x) \n",
    "        x = self.layer3(x) \n",
    "        x = torch.softmax(x, dim=1) \n",
    "        return x \n",
    "    \n",
    "loss_fn = nn.CrossEntropyLoss() \n",
    "\n",
    "for inputs, labels in poker_dataset:\n",
    "    # Pass the inputs through the neural network\n",
    "    outputs = poker_nn(inputs)\n",
    "    # Compute the loss\n",
    "    loss = loss_fn(outputs, labels)\n",
    "    # Update the weights and biases\n",
    "    optimizer.zero_grad()\n",
    "    loss.backward()\n",
    "    optimizer.step()"
   ]
  },
  {
   "cell_type": "code",
   "execution_count": null,
   "id": "15e789fb",
   "metadata": {},
   "outputs": [],
   "source": []
  }
 ],
 "metadata": {
  "kernelspec": {
   "display_name": "Python 3 (ipykernel)",
   "language": "python",
   "name": "python3"
  },
  "language_info": {
   "codemirror_mode": {
    "name": "ipython",
    "version": 3
   },
   "file_extension": ".py",
   "mimetype": "text/x-python",
   "name": "python",
   "nbconvert_exporter": "python",
   "pygments_lexer": "ipython3",
   "version": "3.9.7"
  }
 },
 "nbformat": 4,
 "nbformat_minor": 5
}
